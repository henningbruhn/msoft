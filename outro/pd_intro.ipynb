{
 "cells": [
  {
   "cell_type": "markdown",
   "metadata": {},
   "source": [
    "# Short introduction to pandas\n",
    "\n",
    "pandas is the main package in python to manipulate tabular data. It's usually abbreviated to <code>pd</code>:"
   ]
  },
  {
   "cell_type": "code",
   "execution_count": 1,
   "metadata": {},
   "outputs": [],
   "source": [
    "import pandas as pd"
   ]
  },
  {
   "cell_type": "markdown",
   "metadata": {},
   "source": [
    "The main class in pandas is a <code>DataFrame</code> that represents a table of data. A <code>DataFrame</code> can be created in a number of ways. The most common are reading in from a text file or turning an array (list) or a dictionary into a <code>DataFrame</code>. Let's do the latter."
   ]
  },
  {
   "cell_type": "code",
   "execution_count": 2,
   "metadata": {},
   "outputs": [
    {
     "data": {
      "text/html": [
       "<div>\n",
       "<style scoped>\n",
       "    .dataframe tbody tr th:only-of-type {\n",
       "        vertical-align: middle;\n",
       "    }\n",
       "\n",
       "    .dataframe tbody tr th {\n",
       "        vertical-align: top;\n",
       "    }\n",
       "\n",
       "    .dataframe thead th {\n",
       "        text-align: right;\n",
       "    }\n",
       "</style>\n",
       "<table border=\"1\" class=\"dataframe\">\n",
       "  <thead>\n",
       "    <tr style=\"text-align: right;\">\n",
       "      <th></th>\n",
       "      <th>0</th>\n",
       "      <th>1</th>\n",
       "      <th>2</th>\n",
       "    </tr>\n",
       "  </thead>\n",
       "  <tbody>\n",
       "    <tr>\n",
       "      <th>0</th>\n",
       "      <td>1.76</td>\n",
       "      <td>70</td>\n",
       "      <td>blue</td>\n",
       "    </tr>\n",
       "    <tr>\n",
       "      <th>1</th>\n",
       "      <td>1.46</td>\n",
       "      <td>32</td>\n",
       "      <td>brown</td>\n",
       "    </tr>\n",
       "    <tr>\n",
       "      <th>2</th>\n",
       "      <td>1.65</td>\n",
       "      <td>47</td>\n",
       "      <td>black</td>\n",
       "    </tr>\n",
       "    <tr>\n",
       "      <th>3</th>\n",
       "      <td>1.32</td>\n",
       "      <td>26</td>\n",
       "      <td>brown</td>\n",
       "    </tr>\n",
       "  </tbody>\n",
       "</table>\n",
       "</div>"
      ],
      "text/plain": [
       "      0   1      2\n",
       "0  1.76  70   blue\n",
       "1  1.46  32  brown\n",
       "2  1.65  47  black\n",
       "3  1.32  26  brown"
      ]
     },
     "execution_count": 2,
     "metadata": {},
     "output_type": "execute_result"
    }
   ],
   "source": [
    "data=[[1.76,70,'blue'],[1.46,32,'brown'],[1.65,47,'black'],[1.32,26,'brown']]\n",
    "df=pd.DataFrame(data)\n",
    "df"
   ]
  },
  {
   "cell_type": "markdown",
   "metadata": {},
   "source": [
    "Data frames have columns and rows, and each may have names. To get column names we simply pass column names to the data frame when it is created. The row names are actually called the <code>index</code> of the data frame. Let's introduce both."
   ]
  },
  {
   "cell_type": "code",
   "execution_count": 3,
   "metadata": {},
   "outputs": [
    {
     "data": {
      "text/html": [
       "<div>\n",
       "<style scoped>\n",
       "    .dataframe tbody tr th:only-of-type {\n",
       "        vertical-align: middle;\n",
       "    }\n",
       "\n",
       "    .dataframe tbody tr th {\n",
       "        vertical-align: top;\n",
       "    }\n",
       "\n",
       "    .dataframe thead th {\n",
       "        text-align: right;\n",
       "    }\n",
       "</style>\n",
       "<table border=\"1\" class=\"dataframe\">\n",
       "  <thead>\n",
       "    <tr style=\"text-align: right;\">\n",
       "      <th></th>\n",
       "      <th>height (m)</th>\n",
       "      <th>weight (kg)</th>\n",
       "      <th>eye colour</th>\n",
       "    </tr>\n",
       "  </thead>\n",
       "  <tbody>\n",
       "    <tr>\n",
       "      <th>Arnaud</th>\n",
       "      <td>1.76</td>\n",
       "      <td>70</td>\n",
       "      <td>blue</td>\n",
       "    </tr>\n",
       "    <tr>\n",
       "      <th>Beatrix</th>\n",
       "      <td>1.46</td>\n",
       "      <td>32</td>\n",
       "      <td>brown</td>\n",
       "    </tr>\n",
       "    <tr>\n",
       "      <th>Camille</th>\n",
       "      <td>1.65</td>\n",
       "      <td>47</td>\n",
       "      <td>black</td>\n",
       "    </tr>\n",
       "    <tr>\n",
       "      <th>Derk</th>\n",
       "      <td>1.32</td>\n",
       "      <td>26</td>\n",
       "      <td>brown</td>\n",
       "    </tr>\n",
       "  </tbody>\n",
       "</table>\n",
       "</div>"
      ],
      "text/plain": [
       "         height (m)  weight (kg) eye colour\n",
       "Arnaud         1.76           70       blue\n",
       "Beatrix        1.46           32      brown\n",
       "Camille        1.65           47      black\n",
       "Derk           1.32           26      brown"
      ]
     },
     "execution_count": 3,
     "metadata": {},
     "output_type": "execute_result"
    }
   ],
   "source": [
    "columns=['height (m)','weight (kg)','eye colour']\n",
    "index=['Arnaud','Beatrix','Camille','Derk']\n",
    "df=pd.DataFrame(data,columns=columns,index=index)\n",
    "df"
   ]
  },
  {
   "cell_type": "markdown",
   "metadata": {},
   "source": [
    "Column names and the index can be directly accessed:"
   ]
  },
  {
   "cell_type": "code",
   "execution_count": 4,
   "metadata": {},
   "outputs": [
    {
     "data": {
      "text/plain": [
       "Index(['height (m)', 'weight (kg)', 'eye colour'], dtype='object')"
      ]
     },
     "execution_count": 4,
     "metadata": {},
     "output_type": "execute_result"
    }
   ],
   "source": [
    "df.columns"
   ]
  },
  {
   "cell_type": "markdown",
   "metadata": {},
   "source": [
    "Don't get confused by the complicated output. The columns basically behave like a list of strings:"
   ]
  },
  {
   "cell_type": "code",
   "execution_count": 5,
   "metadata": {},
   "outputs": [
    {
     "data": {
      "text/plain": [
       "'eye colour'"
      ]
     },
     "execution_count": 5,
     "metadata": {},
     "output_type": "execute_result"
    }
   ],
   "source": [
    "df.columns[2]"
   ]
  },
  {
   "cell_type": "code",
   "execution_count": 6,
   "metadata": {},
   "outputs": [
    {
     "data": {
      "text/plain": [
       "Index(['Arnaud', 'Beatrix', 'Camille', 'Derk'], dtype='object')"
      ]
     },
     "execution_count": 6,
     "metadata": {},
     "output_type": "execute_result"
    }
   ],
   "source": [
    "df.index"
   ]
  },
  {
   "cell_type": "markdown",
   "metadata": {},
   "source": [
    "Individual columns can be selected like this:"
   ]
  },
  {
   "cell_type": "code",
   "execution_count": 7,
   "metadata": {},
   "outputs": [
    {
     "data": {
      "text/plain": [
       "Arnaud     70\n",
       "Beatrix    32\n",
       "Camille    47\n",
       "Derk       26\n",
       "Name: weight (kg), dtype: int64"
      ]
     },
     "execution_count": 7,
     "metadata": {},
     "output_type": "execute_result"
    }
   ],
   "source": [
    "df['weight (kg)']"
   ]
  },
  {
   "cell_type": "markdown",
   "metadata": {},
   "source": [
    "We can also select more columns at once. For these we need to pass the list of selected columns to the data frame:"
   ]
  },
  {
   "cell_type": "code",
   "execution_count": 8,
   "metadata": {},
   "outputs": [
    {
     "data": {
      "text/html": [
       "<div>\n",
       "<style scoped>\n",
       "    .dataframe tbody tr th:only-of-type {\n",
       "        vertical-align: middle;\n",
       "    }\n",
       "\n",
       "    .dataframe tbody tr th {\n",
       "        vertical-align: top;\n",
       "    }\n",
       "\n",
       "    .dataframe thead th {\n",
       "        text-align: right;\n",
       "    }\n",
       "</style>\n",
       "<table border=\"1\" class=\"dataframe\">\n",
       "  <thead>\n",
       "    <tr style=\"text-align: right;\">\n",
       "      <th></th>\n",
       "      <th>height (m)</th>\n",
       "      <th>eye colour</th>\n",
       "    </tr>\n",
       "  </thead>\n",
       "  <tbody>\n",
       "    <tr>\n",
       "      <th>Arnaud</th>\n",
       "      <td>1.76</td>\n",
       "      <td>blue</td>\n",
       "    </tr>\n",
       "    <tr>\n",
       "      <th>Beatrix</th>\n",
       "      <td>1.46</td>\n",
       "      <td>brown</td>\n",
       "    </tr>\n",
       "    <tr>\n",
       "      <th>Camille</th>\n",
       "      <td>1.65</td>\n",
       "      <td>black</td>\n",
       "    </tr>\n",
       "    <tr>\n",
       "      <th>Derk</th>\n",
       "      <td>1.32</td>\n",
       "      <td>brown</td>\n",
       "    </tr>\n",
       "  </tbody>\n",
       "</table>\n",
       "</div>"
      ],
      "text/plain": [
       "         height (m) eye colour\n",
       "Arnaud         1.76       blue\n",
       "Beatrix        1.46      brown\n",
       "Camille        1.65      black\n",
       "Derk           1.32      brown"
      ]
     },
     "execution_count": 8,
     "metadata": {},
     "output_type": "execute_result"
    }
   ],
   "source": [
    "selected_columns=['height (m)','eye colour']\n",
    "df[selected_columns]"
   ]
  },
  {
   "cell_type": "markdown",
   "metadata": {},
   "source": [
    "This can be done in one go. Note the double brackets:"
   ]
  },
  {
   "cell_type": "code",
   "execution_count": 9,
   "metadata": {},
   "outputs": [
    {
     "data": {
      "text/html": [
       "<div>\n",
       "<style scoped>\n",
       "    .dataframe tbody tr th:only-of-type {\n",
       "        vertical-align: middle;\n",
       "    }\n",
       "\n",
       "    .dataframe tbody tr th {\n",
       "        vertical-align: top;\n",
       "    }\n",
       "\n",
       "    .dataframe thead th {\n",
       "        text-align: right;\n",
       "    }\n",
       "</style>\n",
       "<table border=\"1\" class=\"dataframe\">\n",
       "  <thead>\n",
       "    <tr style=\"text-align: right;\">\n",
       "      <th></th>\n",
       "      <th>height (m)</th>\n",
       "      <th>eye colour</th>\n",
       "    </tr>\n",
       "  </thead>\n",
       "  <tbody>\n",
       "    <tr>\n",
       "      <th>Arnaud</th>\n",
       "      <td>1.76</td>\n",
       "      <td>blue</td>\n",
       "    </tr>\n",
       "    <tr>\n",
       "      <th>Beatrix</th>\n",
       "      <td>1.46</td>\n",
       "      <td>brown</td>\n",
       "    </tr>\n",
       "    <tr>\n",
       "      <th>Camille</th>\n",
       "      <td>1.65</td>\n",
       "      <td>black</td>\n",
       "    </tr>\n",
       "    <tr>\n",
       "      <th>Derk</th>\n",
       "      <td>1.32</td>\n",
       "      <td>brown</td>\n",
       "    </tr>\n",
       "  </tbody>\n",
       "</table>\n",
       "</div>"
      ],
      "text/plain": [
       "         height (m) eye colour\n",
       "Arnaud         1.76       blue\n",
       "Beatrix        1.46      brown\n",
       "Camille        1.65      black\n",
       "Derk           1.32      brown"
      ]
     },
     "execution_count": 9,
     "metadata": {},
     "output_type": "execute_result"
    }
   ],
   "source": [
    "df[['height (m)','eye colour']]"
   ]
  },
  {
   "cell_type": "markdown",
   "metadata": {},
   "source": [
    "Columns can be combined with standard operations. For instance, to calculate the body mass index:"
   ]
  },
  {
   "cell_type": "code",
   "execution_count": 10,
   "metadata": {},
   "outputs": [
    {
     "data": {
      "text/plain": [
       "Arnaud     22.598140\n",
       "Beatrix    15.012197\n",
       "Camille    17.263545\n",
       "Derk       14.921947\n",
       "dtype: float64"
      ]
     },
     "execution_count": 10,
     "metadata": {},
     "output_type": "execute_result"
    }
   ],
   "source": [
    "df['weight (kg)']/df['height (m)']**2"
   ]
  },
  {
   "cell_type": "markdown",
   "metadata": {},
   "source": [
    "(Note that this is made up data -- no need to check for unhealthy bmi's.)\n",
    "\n",
    "We can then add this to the table as a new column:"
   ]
  },
  {
   "cell_type": "code",
   "execution_count": 11,
   "metadata": {},
   "outputs": [
    {
     "data": {
      "text/html": [
       "<div>\n",
       "<style scoped>\n",
       "    .dataframe tbody tr th:only-of-type {\n",
       "        vertical-align: middle;\n",
       "    }\n",
       "\n",
       "    .dataframe tbody tr th {\n",
       "        vertical-align: top;\n",
       "    }\n",
       "\n",
       "    .dataframe thead th {\n",
       "        text-align: right;\n",
       "    }\n",
       "</style>\n",
       "<table border=\"1\" class=\"dataframe\">\n",
       "  <thead>\n",
       "    <tr style=\"text-align: right;\">\n",
       "      <th></th>\n",
       "      <th>height (m)</th>\n",
       "      <th>weight (kg)</th>\n",
       "      <th>eye colour</th>\n",
       "      <th>bmi</th>\n",
       "    </tr>\n",
       "  </thead>\n",
       "  <tbody>\n",
       "    <tr>\n",
       "      <th>Arnaud</th>\n",
       "      <td>1.76</td>\n",
       "      <td>70</td>\n",
       "      <td>blue</td>\n",
       "      <td>22.598140</td>\n",
       "    </tr>\n",
       "    <tr>\n",
       "      <th>Beatrix</th>\n",
       "      <td>1.46</td>\n",
       "      <td>32</td>\n",
       "      <td>brown</td>\n",
       "      <td>15.012197</td>\n",
       "    </tr>\n",
       "    <tr>\n",
       "      <th>Camille</th>\n",
       "      <td>1.65</td>\n",
       "      <td>47</td>\n",
       "      <td>black</td>\n",
       "      <td>17.263545</td>\n",
       "    </tr>\n",
       "    <tr>\n",
       "      <th>Derk</th>\n",
       "      <td>1.32</td>\n",
       "      <td>26</td>\n",
       "      <td>brown</td>\n",
       "      <td>14.921947</td>\n",
       "    </tr>\n",
       "  </tbody>\n",
       "</table>\n",
       "</div>"
      ],
      "text/plain": [
       "         height (m)  weight (kg) eye colour        bmi\n",
       "Arnaud         1.76           70       blue  22.598140\n",
       "Beatrix        1.46           32      brown  15.012197\n",
       "Camille        1.65           47      black  17.263545\n",
       "Derk           1.32           26      brown  14.921947"
      ]
     },
     "execution_count": 11,
     "metadata": {},
     "output_type": "execute_result"
    }
   ],
   "source": [
    "df['bmi']=df['weight (kg)']/df['height (m)']**2\n",
    "df"
   ]
  },
  {
   "cell_type": "markdown",
   "metadata": {},
   "source": [
    "Next, we can also select rows with <code>df.loc</code>."
   ]
  },
  {
   "cell_type": "code",
   "execution_count": 12,
   "metadata": {},
   "outputs": [
    {
     "data": {
      "text/plain": [
       "height (m)        1.32\n",
       "weight (kg)         26\n",
       "eye colour       brown\n",
       "bmi            14.9219\n",
       "Name: Derk, dtype: object"
      ]
     },
     "execution_count": 12,
     "metadata": {},
     "output_type": "execute_result"
    }
   ],
   "source": [
    "df.loc['Derk']"
   ]
  },
  {
   "cell_type": "markdown",
   "metadata": {},
   "source": [
    "Actually <code>df.loc</code> can also be used to search a value in a certain row and column:"
   ]
  },
  {
   "cell_type": "code",
   "execution_count": 13,
   "metadata": {},
   "outputs": [
    {
     "data": {
      "text/plain": [
       "'brown'"
      ]
     },
     "execution_count": 13,
     "metadata": {},
     "output_type": "execute_result"
    }
   ],
   "source": [
    "df.loc['Derk','eye colour']"
   ]
  },
  {
   "cell_type": "markdown",
   "metadata": {},
   "source": [
    "We can also change values:"
   ]
  },
  {
   "cell_type": "code",
   "execution_count": 14,
   "metadata": {},
   "outputs": [
    {
     "data": {
      "text/html": [
       "<div>\n",
       "<style scoped>\n",
       "    .dataframe tbody tr th:only-of-type {\n",
       "        vertical-align: middle;\n",
       "    }\n",
       "\n",
       "    .dataframe tbody tr th {\n",
       "        vertical-align: top;\n",
       "    }\n",
       "\n",
       "    .dataframe thead th {\n",
       "        text-align: right;\n",
       "    }\n",
       "</style>\n",
       "<table border=\"1\" class=\"dataframe\">\n",
       "  <thead>\n",
       "    <tr style=\"text-align: right;\">\n",
       "      <th></th>\n",
       "      <th>height (m)</th>\n",
       "      <th>weight (kg)</th>\n",
       "      <th>eye colour</th>\n",
       "      <th>bmi</th>\n",
       "    </tr>\n",
       "  </thead>\n",
       "  <tbody>\n",
       "    <tr>\n",
       "      <th>Arnaud</th>\n",
       "      <td>1.76</td>\n",
       "      <td>71</td>\n",
       "      <td>blue</td>\n",
       "      <td>22.598140</td>\n",
       "    </tr>\n",
       "    <tr>\n",
       "      <th>Beatrix</th>\n",
       "      <td>1.46</td>\n",
       "      <td>32</td>\n",
       "      <td>brown</td>\n",
       "      <td>15.012197</td>\n",
       "    </tr>\n",
       "    <tr>\n",
       "      <th>Camille</th>\n",
       "      <td>1.65</td>\n",
       "      <td>47</td>\n",
       "      <td>black</td>\n",
       "      <td>17.263545</td>\n",
       "    </tr>\n",
       "    <tr>\n",
       "      <th>Derk</th>\n",
       "      <td>1.32</td>\n",
       "      <td>26</td>\n",
       "      <td>brown</td>\n",
       "      <td>14.921947</td>\n",
       "    </tr>\n",
       "  </tbody>\n",
       "</table>\n",
       "</div>"
      ],
      "text/plain": [
       "         height (m)  weight (kg) eye colour        bmi\n",
       "Arnaud         1.76           71       blue  22.598140\n",
       "Beatrix        1.46           32      brown  15.012197\n",
       "Camille        1.65           47      black  17.263545\n",
       "Derk           1.32           26      brown  14.921947"
      ]
     },
     "execution_count": 14,
     "metadata": {},
     "output_type": "execute_result"
    }
   ],
   "source": [
    "df.loc['Arnaud','weight (kg)']=71\n",
    "df"
   ]
  },
  {
   "cell_type": "markdown",
   "metadata": {},
   "source": [
    "(Note that the bmi doesn't automatically update.)\n",
    "\n",
    "Next, we can select rows by column values. To do so, note that we can obtain a boolean vector by checking some condition for a column:"
   ]
  },
  {
   "cell_type": "code",
   "execution_count": 15,
   "metadata": {},
   "outputs": [
    {
     "data": {
      "text/plain": [
       "Arnaud     False\n",
       "Beatrix     True\n",
       "Camille    False\n",
       "Derk        True\n",
       "Name: eye colour, dtype: bool"
      ]
     },
     "execution_count": 15,
     "metadata": {},
     "output_type": "execute_result"
    }
   ],
   "source": [
    "df['eye colour']=='brown'"
   ]
  },
  {
   "cell_type": "markdown",
   "metadata": {},
   "source": [
    "...or "
   ]
  },
  {
   "cell_type": "code",
   "execution_count": 16,
   "metadata": {},
   "outputs": [
    {
     "data": {
      "text/plain": [
       "Arnaud      True\n",
       "Beatrix    False\n",
       "Camille     True\n",
       "Derk       False\n",
       "Name: height (m), dtype: bool"
      ]
     },
     "execution_count": 16,
     "metadata": {},
     "output_type": "execute_result"
    }
   ],
   "source": [
    "df['height (m)']>1.5"
   ]
  },
  {
   "cell_type": "markdown",
   "metadata": {},
   "source": [
    "This boolean vector can be used to select rows (namely those, where the value is <code>True</code>):"
   ]
  },
  {
   "cell_type": "code",
   "execution_count": 17,
   "metadata": {},
   "outputs": [
    {
     "data": {
      "text/html": [
       "<div>\n",
       "<style scoped>\n",
       "    .dataframe tbody tr th:only-of-type {\n",
       "        vertical-align: middle;\n",
       "    }\n",
       "\n",
       "    .dataframe tbody tr th {\n",
       "        vertical-align: top;\n",
       "    }\n",
       "\n",
       "    .dataframe thead th {\n",
       "        text-align: right;\n",
       "    }\n",
       "</style>\n",
       "<table border=\"1\" class=\"dataframe\">\n",
       "  <thead>\n",
       "    <tr style=\"text-align: right;\">\n",
       "      <th></th>\n",
       "      <th>height (m)</th>\n",
       "      <th>weight (kg)</th>\n",
       "      <th>eye colour</th>\n",
       "      <th>bmi</th>\n",
       "    </tr>\n",
       "  </thead>\n",
       "  <tbody>\n",
       "    <tr>\n",
       "      <th>Beatrix</th>\n",
       "      <td>1.46</td>\n",
       "      <td>32</td>\n",
       "      <td>brown</td>\n",
       "      <td>15.012197</td>\n",
       "    </tr>\n",
       "    <tr>\n",
       "      <th>Derk</th>\n",
       "      <td>1.32</td>\n",
       "      <td>26</td>\n",
       "      <td>brown</td>\n",
       "      <td>14.921947</td>\n",
       "    </tr>\n",
       "  </tbody>\n",
       "</table>\n",
       "</div>"
      ],
      "text/plain": [
       "         height (m)  weight (kg) eye colour        bmi\n",
       "Beatrix        1.46           32      brown  15.012197\n",
       "Derk           1.32           26      brown  14.921947"
      ]
     },
     "execution_count": 17,
     "metadata": {},
     "output_type": "execute_result"
    }
   ],
   "source": [
    "selection_vector=df['eye colour']=='brown'\n",
    "df[selection_vector]"
   ]
  },
  {
   "cell_type": "markdown",
   "metadata": {},
   "source": [
    "...or slightly shorter:"
   ]
  },
  {
   "cell_type": "code",
   "execution_count": 18,
   "metadata": {},
   "outputs": [
    {
     "data": {
      "text/html": [
       "<div>\n",
       "<style scoped>\n",
       "    .dataframe tbody tr th:only-of-type {\n",
       "        vertical-align: middle;\n",
       "    }\n",
       "\n",
       "    .dataframe tbody tr th {\n",
       "        vertical-align: top;\n",
       "    }\n",
       "\n",
       "    .dataframe thead th {\n",
       "        text-align: right;\n",
       "    }\n",
       "</style>\n",
       "<table border=\"1\" class=\"dataframe\">\n",
       "  <thead>\n",
       "    <tr style=\"text-align: right;\">\n",
       "      <th></th>\n",
       "      <th>height (m)</th>\n",
       "      <th>weight (kg)</th>\n",
       "      <th>eye colour</th>\n",
       "      <th>bmi</th>\n",
       "    </tr>\n",
       "  </thead>\n",
       "  <tbody>\n",
       "    <tr>\n",
       "      <th>Arnaud</th>\n",
       "      <td>1.76</td>\n",
       "      <td>71</td>\n",
       "      <td>blue</td>\n",
       "      <td>22.598140</td>\n",
       "    </tr>\n",
       "    <tr>\n",
       "      <th>Camille</th>\n",
       "      <td>1.65</td>\n",
       "      <td>47</td>\n",
       "      <td>black</td>\n",
       "      <td>17.263545</td>\n",
       "    </tr>\n",
       "  </tbody>\n",
       "</table>\n",
       "</div>"
      ],
      "text/plain": [
       "         height (m)  weight (kg) eye colour        bmi\n",
       "Arnaud         1.76           71       blue  22.598140\n",
       "Camille        1.65           47      black  17.263545"
      ]
     },
     "execution_count": 18,
     "metadata": {},
     "output_type": "execute_result"
    }
   ],
   "source": [
    "df[df['height (m)']>1.5]"
   ]
  },
  {
   "cell_type": "markdown",
   "metadata": {},
   "source": [
    "Different criteria may be combined. For this we operate on the boolean selection vectors. These can be combined by logical operaters such as & (and) and | (or)."
   ]
  },
  {
   "cell_type": "code",
   "execution_count": 19,
   "metadata": {},
   "outputs": [
    {
     "data": {
      "text/html": [
       "<div>\n",
       "<style scoped>\n",
       "    .dataframe tbody tr th:only-of-type {\n",
       "        vertical-align: middle;\n",
       "    }\n",
       "\n",
       "    .dataframe tbody tr th {\n",
       "        vertical-align: top;\n",
       "    }\n",
       "\n",
       "    .dataframe thead th {\n",
       "        text-align: right;\n",
       "    }\n",
       "</style>\n",
       "<table border=\"1\" class=\"dataframe\">\n",
       "  <thead>\n",
       "    <tr style=\"text-align: right;\">\n",
       "      <th></th>\n",
       "      <th>height (m)</th>\n",
       "      <th>weight (kg)</th>\n",
       "      <th>eye colour</th>\n",
       "      <th>bmi</th>\n",
       "    </tr>\n",
       "  </thead>\n",
       "  <tbody>\n",
       "    <tr>\n",
       "      <th>Camille</th>\n",
       "      <td>1.65</td>\n",
       "      <td>47</td>\n",
       "      <td>black</td>\n",
       "      <td>17.263545</td>\n",
       "    </tr>\n",
       "  </tbody>\n",
       "</table>\n",
       "</div>"
      ],
      "text/plain": [
       "         height (m)  weight (kg) eye colour        bmi\n",
       "Camille        1.65           47      black  17.263545"
      ]
     },
     "execution_count": 19,
     "metadata": {},
     "output_type": "execute_result"
    }
   ],
   "source": [
    "eye_colour= df['eye colour']!='brown' ## \"!=\" is \"not equal\"\n",
    "weight= df['weight (kg)']<60\n",
    "\n",
    "df[eye_colour & weight]"
   ]
  },
  {
   "cell_type": "code",
   "execution_count": 20,
   "metadata": {},
   "outputs": [
    {
     "data": {
      "text/html": [
       "<div>\n",
       "<style scoped>\n",
       "    .dataframe tbody tr th:only-of-type {\n",
       "        vertical-align: middle;\n",
       "    }\n",
       "\n",
       "    .dataframe tbody tr th {\n",
       "        vertical-align: top;\n",
       "    }\n",
       "\n",
       "    .dataframe thead th {\n",
       "        text-align: right;\n",
       "    }\n",
       "</style>\n",
       "<table border=\"1\" class=\"dataframe\">\n",
       "  <thead>\n",
       "    <tr style=\"text-align: right;\">\n",
       "      <th></th>\n",
       "      <th>height (m)</th>\n",
       "      <th>weight (kg)</th>\n",
       "      <th>eye colour</th>\n",
       "      <th>bmi</th>\n",
       "    </tr>\n",
       "  </thead>\n",
       "  <tbody>\n",
       "    <tr>\n",
       "      <th>Arnaud</th>\n",
       "      <td>1.76</td>\n",
       "      <td>71</td>\n",
       "      <td>blue</td>\n",
       "      <td>22.598140</td>\n",
       "    </tr>\n",
       "    <tr>\n",
       "      <th>Beatrix</th>\n",
       "      <td>1.46</td>\n",
       "      <td>32</td>\n",
       "      <td>brown</td>\n",
       "      <td>15.012197</td>\n",
       "    </tr>\n",
       "    <tr>\n",
       "      <th>Camille</th>\n",
       "      <td>1.65</td>\n",
       "      <td>47</td>\n",
       "      <td>black</td>\n",
       "      <td>17.263545</td>\n",
       "    </tr>\n",
       "    <tr>\n",
       "      <th>Derk</th>\n",
       "      <td>1.32</td>\n",
       "      <td>26</td>\n",
       "      <td>brown</td>\n",
       "      <td>14.921947</td>\n",
       "    </tr>\n",
       "  </tbody>\n",
       "</table>\n",
       "</div>"
      ],
      "text/plain": [
       "         height (m)  weight (kg) eye colour        bmi\n",
       "Arnaud         1.76           71       blue  22.598140\n",
       "Beatrix        1.46           32      brown  15.012197\n",
       "Camille        1.65           47      black  17.263545\n",
       "Derk           1.32           26      brown  14.921947"
      ]
     },
     "execution_count": 20,
     "metadata": {},
     "output_type": "execute_result"
    }
   ],
   "source": [
    "df[eye_colour | weight]"
   ]
  },
  {
   "cell_type": "markdown",
   "metadata": {},
   "source": [
    "Row selection by value and column selection can be combined. For this, we need to use <code>df.loc</code> again."
   ]
  },
  {
   "cell_type": "code",
   "execution_count": 21,
   "metadata": {},
   "outputs": [
    {
     "data": {
      "text/plain": [
       "Camille    17.263545\n",
       "Name: bmi, dtype: float64"
      ]
     },
     "execution_count": 21,
     "metadata": {},
     "output_type": "execute_result"
    }
   ],
   "source": [
    "df.loc[eye_colour & weight,\"bmi\"]"
   ]
  },
  {
   "cell_type": "markdown",
   "metadata": {},
   "source": [
    "If you just want the values, use <code>values</code>."
   ]
  },
  {
   "cell_type": "code",
   "execution_count": 22,
   "metadata": {},
   "outputs": [
    {
     "data": {
      "text/plain": [
       "array([17.26354454])"
      ]
     },
     "execution_count": 22,
     "metadata": {},
     "output_type": "execute_result"
    }
   ],
   "source": [
    "df.loc[eye_colour & weight,\"bmi\"].values"
   ]
  },
  {
   "cell_type": "markdown",
   "metadata": {},
   "source": [
    "Note this returns a list, as there could be more than one row that satisfies the selection criteria."
   ]
  },
  {
   "cell_type": "markdown",
   "metadata": {},
   "source": [
    "Pandas obviously has a lot more functions. You can compute statistics on the tables, you can do complicated data manipulation, you can fill in missing values and so on. For a lot more, see the documentation of [pandas](https://pandas.pydata.org/docs/)."
   ]
  }
 ],
 "metadata": {
  "kernelspec": {
   "display_name": "Python 3 (ipykernel)",
   "language": "python",
   "name": "python3"
  },
  "language_info": {
   "codemirror_mode": {
    "name": "ipython",
    "version": 3
   },
   "file_extension": ".py",
   "mimetype": "text/x-python",
   "name": "python",
   "nbconvert_exporter": "python",
   "pygments_lexer": "ipython3",
   "version": "3.10.10"
  }
 },
 "nbformat": 4,
 "nbformat_minor": 4
}
