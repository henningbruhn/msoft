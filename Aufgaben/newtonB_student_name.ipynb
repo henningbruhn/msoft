{
 "cells": [
  {
   "cell_type": "markdown",
   "id": "c7674381-c9b5-4411-ab9e-b7f0896d1b84",
   "metadata": {
    "id": "c7674381-c9b5-4411-ab9e-b7f0896d1b84"
   },
   "source": [
    "# Newton-Fraktal II\n",
    "\n",
    "In den vorherigen beiden Notebooks haben Sie Code erarbeitet, um das Newton-Verfahren anwenden zu können und die Newton-Fraktale zu plotten.\n",
    "In diesem Notebook wollen wir, mit den bisherigen Ergebnissen, tiefergehende Fragen über Newton-Fraktale beantworten."
   ]
  },
  {
   "cell_type": "markdown",
   "id": "c6b98329-08ad-45a4-bf99-22679adafb10",
   "metadata": {
    "id": "c6b98329-08ad-45a4-bf99-22679adafb10"
   },
   "source": [
    "## Methoden aus dem vorherigen Notebook\n",
    "\n",
    "Dafür wollen wir zunächst den Code aus den ersten beiden Notebooks sammeln.\n",
    "\n",
    "Dafür importieren wir zunächst die benötigten Bibliotheken."
   ]
  },
  {
   "cell_type": "code",
   "execution_count": null,
   "id": "c4a41a46-2a04-4798-974a-2ee248516bb4",
   "metadata": {
    "id": "c4a41a46-2a04-4798-974a-2ee248516bb4"
   },
   "outputs": [],
   "source": [
    "# ein paar nützliche imports\n",
    "import matplotlib.pyplot as plt\n",
    "import numpy as np\n",
    "import random"
   ]
  },
  {
   "cell_type": "markdown",
   "id": "2b32fad0-2711-43cd-a8a7-bb8d91a35383",
   "metadata": {
    "id": "2b32fad0-2711-43cd-a8a7-bb8d91a35383"
   },
   "source": [
    "Nun der Code für das Newton-Verfahren und um die Nullstellen zu ermitteln. Die Funktion <code>newton_fract</code> beschreibt das Newton-Verfahren. Dabei liefert diese auch die Anzahl der Iterationen zurück und markiert in <code>z</code> die nicht-konvergenten Stellen mit <code>np.inf</code>.\n",
    "\n",
    "Um die Nullstellen der Funtion zu finden, benötigen wir die Funktion <code>find_roots</code>."
   ]
  },
  {
   "cell_type": "code",
   "execution_count": null,
   "id": "9c1d9fe6-941f-4974-a22a-b064c3e0a262",
   "metadata": {
    "id": "9c1d9fe6-941f-4974-a22a-b064c3e0a262"
   },
   "outputs": [],
   "source": [
    "def newton_fract(fun,derivative,real_lim=(-1,1),imag_lim=(-1,1),max_iter=40,eps=0.001):\n",
    "    \"\"\"\n",
    "    fun: die Funktion\n",
    "    derivative: die Ableitung der Funktion\n",
    "    real_lim,imag_lim: der Auswertungsbereich\n",
    "    max_iter: Anzahl der Iterationen\n",
    "    eps: ist |z_i-z_{i+1}|<eps, so sehen wir z_i als konvergiert an\n",
    "\n",
    "    Rückgabe\n",
    "    rr,ii: die Realteile und Imaginärteile des Auswertungsbereichs\n",
    "    z: die Resultate der Newton-Iteration\n",
    "    iterations: die Zahl der Schritte bis zur Konvergenz\n",
    "    \"\"\"\n",
    "    resolution=500 # die Auflösung des Bildes\n",
    "    reals=np.linspace(real_lim[0],real_lim[1],resolution)  # die Realteile nehmen wir aus [real_min,real_max]\n",
    "    imags=np.linspace(imag_lim[0],imag_lim[1],resolution) # die Imaginärteile aus [imag_min,imag_max]\n",
    "    rr,ii=np.meshgrid(reals,imags)\n",
    "    z=rr+ii*1j # dies sind unsere Startwerte\n",
    "    iterations=np.zeros(shape=z.shape) # Zahl der Iterationen ist zu Beginn 0, mit gleicher Form wie z\n",
    "\n",
    "    for i in range(max_iter):\n",
    "        new_z=z-fun(z)/derivative(z)\n",
    "        iterations+=np.where(np.abs(z-new_z)>=eps,1,0)\n",
    "        z=new_z\n",
    "    z=np.where(iterations==max_iter,np.inf,z)  # mark non-converged with inf\n",
    "    return rr,ii,z,iterations\n",
    "\n",
    "def find_roots(zz,eps=0.01,K=1000):\n",
    "    roots=[]\n",
    "    sample=np.random.choice(zz.flat,size=1000) # zufällige Wahl, damit wir nicht alle überprüfen müssen\n",
    "    for z in sample:\n",
    "        if np.abs(z)<K:\n",
    "            check_for_new_root(z,roots,eps=eps)\n",
    "    return roots\n",
    "\n",
    "def check_for_new_root(z,roots,eps=0.01):\n",
    "    for r in roots:\n",
    "        if np.abs(z-r)<eps:\n",
    "            return\n",
    "    roots.append(z)\n"
   ]
  },
  {
   "cell_type": "markdown",
   "id": "7768cad8-37c0-4e85-8af5-e062e8451431",
   "metadata": {
    "id": "7768cad8-37c0-4e85-8af5-e062e8451431"
   },
   "source": [
    "Schließlich der Visualisierungscode. Die Funktion <code>show_fractal</code> liefert uns den gewünschten Plot (wie wir ihn bereits aus dem 2. Notebook kennen).\n",
    "\n",
    "\n",
    "\n",
    "\n"
   ]
  },
  {
   "cell_type": "code",
   "execution_count": null,
   "id": "d507efa6-2f29-4358-a6ec-626bec046e4e",
   "metadata": {
    "id": "d507efa6-2f29-4358-a6ec-626bec046e4e"
   },
   "outputs": [],
   "source": [
    "import matplotlib.colors as colors\n",
    "\n",
    "def make_lighter(colour,how_much,num_shades=10):\n",
    "    if isinstance(colour,str):\n",
    "        rgb=colors.to_rgb(colour)\n",
    "    else:\n",
    "        rgb=colour\n",
    "    factor=1+how_much/num_shades*2\n",
    "    return tuple(np.clip(np.array(rgb)*factor,a_min=0,a_max=1))\n",
    "\n",
    "tab_colours=[\"tab:blue\",\"tab:orange\",\"tab:green\",\"tab:red\",\"tab:purple\",\"tab:brown\",\"tab:pink\",\"tab:gray\",\"tab:olive\",\"tab:cyan\"]\n",
    "\n",
    "def get_colourmap(num_shades=40,base_colours=tab_colours):\n",
    "    colourmap=[make_lighter(base_colour,i,num_shades=num_shades) for base_colour in base_colours for i in range(num_shades)]\n",
    "    colourmap.append((0,0,0)) # schwarz ganz ans Ende (für später)\n",
    "    return colourmap\n",
    "\n",
    "def bin(iterations,num_bins,max_iter):\n",
    "    # diese Lösung ist ein wenig komplizierter als nötig\n",
    "    # np.clip ersetzt alle Werte kleiner als a_min mit a_min und alle Werte größer als a_max mit a_max\n",
    "    return np.clip(iterations*num_bins//max_iter,a_min=0,a_max=num_bins-1)\n",
    "\n",
    "def show_fractal(rr,ii,z,iterations,roots,max_iter,eps=0.01):\n",
    "    num_shades=40\n",
    "    colourmap=get_colourmap()\n",
    "    rootmap=np.zeros(shape=z.shape)\n",
    "    for i,root in enumerate(roots):\n",
    "        rootmap+=np.where(np.absolute(z-root)<eps,i,0)\n",
    "\n",
    "    values=rootmap*num_shades+bin(iterations,num_shades,max_iter)\n",
    "    values=np.where(np.isinf(z),len(colourmap)-1,values) # markiere die nicht-konvergenten Punkte\n",
    "\n",
    "    levels=np.arange(len(colourmap)+1)-0.5\n",
    "    fig,ax=plt.subplots(figsize=(4,4))\n",
    "    ax.contourf(rr,ii,values,levels=levels,colors=colourmap)"
   ]
  },
  {
   "cell_type": "markdown",
   "id": "14817bb8-be29-49f9-9862-37893b789e36",
   "metadata": {
    "id": "14817bb8-be29-49f9-9862-37893b789e36"
   },
   "source": [
    "Zur Illustration machen wir einen hübschen Plot von $z^4+z^3+z^2+z+1$.\n",
    "So können wir außerdem sehen, dass der Code das macht, was wir wollen.\n",
    "\n",
    "Damit hier auch noch etwas Neues kommt, führen wir noch eine Kurzschreibweise für Einzeiler-Funktionen ein, *lambda-Funktionen*. Das Polynom $z^4+z^3+z^2+z+1$ können wir wie bisher so definieren:"
   ]
  },
  {
   "cell_type": "code",
   "execution_count": null,
   "id": "2fb6156d-f920-4aa5-b26c-613febd3c4d3",
   "metadata": {},
   "outputs": [],
   "source": [
    "def fun1(z):\n",
    "    return z**4+z**3+z**2+z+1"
   ]
  },
  {
   "cell_type": "markdown",
   "id": "30cbc4c1-4109-46f5-b04e-4d494883e97e",
   "metadata": {},
   "source": [
    "Kürzer geht's als *lambda-Funktion*:"
   ]
  },
  {
   "cell_type": "code",
   "execution_count": null,
   "id": "153d11de-0f81-4d17-940f-68a5c7ef1d3f",
   "metadata": {},
   "outputs": [],
   "source": [
    "fun1=lambda z: z**4+z**3+z**2+z+1"
   ]
  },
  {
   "cell_type": "markdown",
   "id": "3bba4882-a42f-438c-9c8d-3c2b7d04c1c6",
   "metadata": {},
   "source": [
    "Wir sehen: direkt nach dem Schlüsselwort <code>lambda</code> kommt die Variable, dann ein <code>:</code> und schließlich der Rückgabewert. (Sie können die Polynome auch weiterhin mit <code>def</code> definieren.)\n",
    "So, nun aber endlich der Plot von $z^4+z^3+z^2+z+1$."
   ]
  },
  {
   "cell_type": "code",
   "execution_count": null,
   "id": "3f34e1b5-2ff7-4c79-af16-128a166b9f1b",
   "metadata": {
    "colab": {
     "base_uri": "https://localhost:8080/",
     "height": 394
    },
    "id": "3f34e1b5-2ff7-4c79-af16-128a166b9f1b",
    "outputId": "51e4cb01-69bd-4c66-b2de-dd264698cfee"
   },
   "outputs": [],
   "source": [
    "deriv1=lambda z : 4*z**3+3*z**2+2*z+1\n",
    "\n",
    "rr,ii,z,iterations=newton_fract(fun1,deriv1,real_lim=(-1,1),imag_lim=(-1,1),max_iter=50)\n",
    "roots=find_roots(z)\n",
    "show_fractal(rr,ii,z,iterations,roots,40)"
   ]
  },
  {
   "cell_type": "markdown",
   "id": "b9bbf7c3-337c-4862-bbc5-78724af684af",
   "metadata": {
    "id": "b9bbf7c3-337c-4862-bbc5-78724af684af"
   },
   "source": [
    "Sie haben nun alle Werkzeuge um das Newton-Verfahren anzuwenden und die Newton-Fraktale zu plotten. Bearbeiten Sie nun die Aufgaben unten. Dafür können Sie in diesem Notebook mit verschiedenen Funktionen experimentieren, um so auf die Lösungen zu kommen.\n",
    "\n",
    "**Tipp:** Die imaginäre Einheit wird in Python mit <code>1j</code> beschrieben. [Hier](https://www.audiolabs-erlangen.de/resources/MIR/FMP/C2/C2_ComplexNumbers.html) gibt's sonst noch ein paar Beispiele wie Sie in Python mit komplexen Zahlen arbeiten können.\n",
    "\n",
    "### Aufgabe: Fraktale\n",
    "\n",
    "In den bisherigen Beispielen konnten wir stets fraktales Verhalten beobachten, d.h. es treten Fraktale im Plot auf. Dies sind gerade die verschachtelten Regionen, die wir in den Plots beobachten konnten. Welche Vorraussetzung muss eine Funktion erfüllen, damit wir gerade Fraktale beobachten können? Von den folgenden Optionen ist genau eine korrekt. Erstellen Sie Plots verschiedener Funktionen, um herauszufinden welche. \n",
    "\n",
    "1. Tritt immer auf\n",
    "2. Tritt ausschließlich bei Polynomen auf\n",
    "3. Tritt immer auf bei Polynomen mit mindestens drei (paarweise verschiedenen) Nullstellen\n",
    "4. Tritt immer auf bei Polynomen von Grad $\\geq 3$\n",
    "5. Tritt immer auf bei Polynomen deren Koeffizienten alle reell sind"
   ]
  },
  {
   "cell_type": "markdown",
   "id": "ffdde273-85c2-4f50-bf40-92faf39ef258",
   "metadata": {},
   "source": [
    "**Ihre Lösung hier**\n",
    "\n",
    "Anleitung: Doppelklick auf die Zelle und dann ein <code>x</code> in das richtige Kästchen <code>[x]</code>. Wenn Sie nicht damit zurecht kommen, löschen Sie einfach alle falschen Antworten.\n",
    "\n",
    "- [ ] Tritt immer auf\n",
    "- [ ] Tritt ausschließlich bei Polynomen auf\n",
    "- [ ] Tritt immer auf bei Polynomen mit mindestens drei (paarweise verschiedenen) Nullstellen\n",
    "- [ ] Tritt immer auf bei Polynomen von Grad $\\geq 3$\n",
    "- [ ] Tritt immer auf bei Polynomen deren Koeffizienten alle reell sind\n"
   ]
  },
  {
   "cell_type": "code",
   "execution_count": null,
   "id": "4cd7a2d5-ecf2-41d0-b22c-ae8b7fbc5f71",
   "metadata": {},
   "outputs": [],
   "source": [
    "### Platz für Ihren Code zum Experimentieren"
   ]
  },
  {
   "cell_type": "markdown",
   "id": "e4d460ab-7f09-43e0-b9f4-79ed0f1bfff7",
   "metadata": {},
   "source": [
    "**Hintergrund und Ausblick**\n",
    "\n",
    "_folgt in der Lösung, also schauen Sie sich die unbedingt auch noch an_"
   ]
  },
  {
   "cell_type": "markdown",
   "id": "d9db8ad0-aab0-45d7-bea1-78d9cd90e735",
   "metadata": {},
   "source": [
    "### Aufgabe: Achsensymmetrie\n",
    "\n",
    "Bisher waren alle Newton-Fraktale symmetrisch zur x-Achse. Wenn wir den Plot also an der x-Achse spiegeln, kommt bis auf unterschiedliche Farben wieder der selbe Plot heraus.\n",
    "Finden Sie eine Funktion, deren Plot nicht symmetrisch zur x-Achse ist? Geben Sie die Funktion an (inkl. passendem Plot) oder begründen Sie, weshalb eine solche Funktion nicht existiert."
   ]
  },
  {
   "cell_type": "code",
   "execution_count": null,
   "id": "VjIOmlGFRfpx",
   "metadata": {
    "colab": {
     "base_uri": "https://localhost:8080/",
     "height": 394
    },
    "id": "VjIOmlGFRfpx",
    "outputId": "893117d3-fe25-4bca-80f3-099df470f18e"
   },
   "outputs": [],
   "source": [
    "### BEGIN SOLUTION\n",
    "# Ihre Lösung hier\n",
    "### END SOLUTION"
   ]
  },
  {
   "cell_type": "markdown",
   "id": "f7723656-96eb-4a0d-858f-27b1cfa25e76",
   "metadata": {},
   "source": [
    "**Erklärung**\n",
    "\n",
    "_folgt in der Lösung, also schauen Sie sich die unbedingt auch noch an_"
   ]
  },
  {
   "cell_type": "markdown",
   "id": "554ba117-6807-4c97-baa5-a63295dabf47",
   "metadata": {},
   "source": [
    "### Aufgabe: Rotationssymmetrie\n",
    "\n",
    "Der Plot von $z\\mapsto z^3-1$ hat eine Rotationssymmetrie um 120°. D.h, wenn wir unseren Plot um 120° drehen, haben wir -- abgesehen von verschiedenen Farben -- den selben Plot. Finden Sie ein Polynom mit 90°-Rotationssymmetrie? Geben Sie die Funktion an (inkl. passendem Plot) oder begründen Sie, weshalb eine solche Funktion nicht existiert."
   ]
  },
  {
   "cell_type": "code",
   "execution_count": null,
   "id": "GycrKcfGSMsm",
   "metadata": {
    "colab": {
     "base_uri": "https://localhost:8080/",
     "height": 394
    },
    "id": "GycrKcfGSMsm",
    "outputId": "6bce11e9-a3cf-4a1f-9788-53ca41ff108f"
   },
   "outputs": [],
   "source": [
    "### BEGIN SOLUTION\n",
    "# Ihre Lösung hier\n",
    "### END SOLUTION"
   ]
  },
  {
   "cell_type": "markdown",
   "id": "ad42d04c-a263-48e2-aac6-a14dc6f61a9b",
   "metadata": {},
   "source": [
    "**Erklärung**\n",
    "\n",
    "_folgt in der Lösung, also schauen Sie sich die unbedingt auch noch an_"
   ]
  },
  {
   "cell_type": "code",
   "execution_count": null,
   "id": "5fc2df61-b736-47a1-97f6-58a6815d24bb",
   "metadata": {},
   "outputs": [],
   "source": []
  }
 ],
 "metadata": {
  "colab": {
   "provenance": []
  },
  "kernelspec": {
   "display_name": "Python 3 (ipykernel)",
   "language": "python",
   "name": "python3"
  },
  "language_info": {
   "codemirror_mode": {
    "name": "ipython",
    "version": 3
   },
   "file_extension": ".py",
   "mimetype": "text/x-python",
   "name": "python",
   "nbconvert_exporter": "python",
   "pygments_lexer": "ipython3",
   "version": "3.12.7"
  }
 },
 "nbformat": 4,
 "nbformat_minor": 5
}
